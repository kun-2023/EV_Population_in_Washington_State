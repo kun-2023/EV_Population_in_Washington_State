{
 "cells": [
  {
   "cell_type": "code",
   "execution_count": 1,
   "id": "01e00dd4-1b36-430b-a4fd-f363c4203c28",
   "metadata": {},
   "outputs": [],
   "source": [
    "import pandas as pd\n",
    "import numpy as np\n",
    "import matplotlib.pyplot as plt\n",
    "import seaborn as sns\n",
    "import plotly.express as px"
   ]
  },
  {
   "cell_type": "code",
   "execution_count": 2,
   "id": "de6992db-64bb-4c8b-8bac-481a4f2e04b0",
   "metadata": {},
   "outputs": [
    {
     "data": {
      "text/html": [
       "<div>\n",
       "<style scoped>\n",
       "    .dataframe tbody tr th:only-of-type {\n",
       "        vertical-align: middle;\n",
       "    }\n",
       "\n",
       "    .dataframe tbody tr th {\n",
       "        vertical-align: top;\n",
       "    }\n",
       "\n",
       "    .dataframe thead th {\n",
       "        text-align: right;\n",
       "    }\n",
       "</style>\n",
       "<table border=\"1\" class=\"dataframe\">\n",
       "  <thead>\n",
       "    <tr style=\"text-align: right;\">\n",
       "      <th></th>\n",
       "      <th>VIN (1-10)</th>\n",
       "      <th>County</th>\n",
       "      <th>City</th>\n",
       "      <th>State</th>\n",
       "      <th>Postal Code</th>\n",
       "      <th>Model Year</th>\n",
       "      <th>Make</th>\n",
       "      <th>Model</th>\n",
       "      <th>Electric Vehicle Type</th>\n",
       "      <th>Clean Alternative Fuel Vehicle (CAFV) Eligibility</th>\n",
       "      <th>Electric Range</th>\n",
       "      <th>Base MSRP</th>\n",
       "      <th>Legislative District</th>\n",
       "      <th>DOL Vehicle ID</th>\n",
       "      <th>Vehicle Location</th>\n",
       "      <th>Electric Utility</th>\n",
       "      <th>2020 Census Tract</th>\n",
       "    </tr>\n",
       "  </thead>\n",
       "  <tbody>\n",
       "    <tr>\n",
       "      <th>0</th>\n",
       "      <td>5YJ3E1EA5L</td>\n",
       "      <td>King</td>\n",
       "      <td>Seattle</td>\n",
       "      <td>WA</td>\n",
       "      <td>98133.0</td>\n",
       "      <td>2020</td>\n",
       "      <td>TESLA</td>\n",
       "      <td>MODEL 3</td>\n",
       "      <td>Battery Electric Vehicle (BEV)</td>\n",
       "      <td>Clean Alternative Fuel Vehicle Eligible</td>\n",
       "      <td>266</td>\n",
       "      <td>0</td>\n",
       "      <td>46.0</td>\n",
       "      <td>249903111</td>\n",
       "      <td>POINT (-122.35029 47.71871)</td>\n",
       "      <td>CITY OF SEATTLE - (WA)|CITY OF TACOMA - (WA)</td>\n",
       "      <td>5.303300e+10</td>\n",
       "    </tr>\n",
       "    <tr>\n",
       "      <th>1</th>\n",
       "      <td>5UX43EU08R</td>\n",
       "      <td>King</td>\n",
       "      <td>Seattle</td>\n",
       "      <td>WA</td>\n",
       "      <td>98125.0</td>\n",
       "      <td>2024</td>\n",
       "      <td>BMW</td>\n",
       "      <td>X5</td>\n",
       "      <td>Plug-in Hybrid Electric Vehicle (PHEV)</td>\n",
       "      <td>Clean Alternative Fuel Vehicle Eligible</td>\n",
       "      <td>39</td>\n",
       "      <td>0</td>\n",
       "      <td>46.0</td>\n",
       "      <td>264762606</td>\n",
       "      <td>POINT (-122.30253 47.72656)</td>\n",
       "      <td>CITY OF SEATTLE - (WA)|CITY OF TACOMA - (WA)</td>\n",
       "      <td>5.303300e+10</td>\n",
       "    </tr>\n",
       "    <tr>\n",
       "      <th>2</th>\n",
       "      <td>5UX43EU06R</td>\n",
       "      <td>King</td>\n",
       "      <td>Seattle</td>\n",
       "      <td>WA</td>\n",
       "      <td>98102.0</td>\n",
       "      <td>2024</td>\n",
       "      <td>BMW</td>\n",
       "      <td>X5</td>\n",
       "      <td>Plug-in Hybrid Electric Vehicle (PHEV)</td>\n",
       "      <td>Clean Alternative Fuel Vehicle Eligible</td>\n",
       "      <td>39</td>\n",
       "      <td>0</td>\n",
       "      <td>43.0</td>\n",
       "      <td>275506031</td>\n",
       "      <td>POINT (-122.32427 47.63433)</td>\n",
       "      <td>CITY OF SEATTLE - (WA)|CITY OF TACOMA - (WA)</td>\n",
       "      <td>5.303301e+10</td>\n",
       "    </tr>\n",
       "    <tr>\n",
       "      <th>3</th>\n",
       "      <td>5YJ3E1EA1J</td>\n",
       "      <td>King</td>\n",
       "      <td>Kirkland</td>\n",
       "      <td>WA</td>\n",
       "      <td>98034.0</td>\n",
       "      <td>2018</td>\n",
       "      <td>TESLA</td>\n",
       "      <td>MODEL 3</td>\n",
       "      <td>Battery Electric Vehicle (BEV)</td>\n",
       "      <td>Clean Alternative Fuel Vehicle Eligible</td>\n",
       "      <td>215</td>\n",
       "      <td>0</td>\n",
       "      <td>1.0</td>\n",
       "      <td>117023581</td>\n",
       "      <td>POINT (-122.22901 47.72201)</td>\n",
       "      <td>PUGET SOUND ENERGY INC||CITY OF TACOMA - (WA)</td>\n",
       "      <td>5.303302e+10</td>\n",
       "    </tr>\n",
       "    <tr>\n",
       "      <th>4</th>\n",
       "      <td>1G1RA6E43C</td>\n",
       "      <td>Thurston</td>\n",
       "      <td>Olympia</td>\n",
       "      <td>WA</td>\n",
       "      <td>98501.0</td>\n",
       "      <td>2012</td>\n",
       "      <td>CHEVROLET</td>\n",
       "      <td>VOLT</td>\n",
       "      <td>Plug-in Hybrid Electric Vehicle (PHEV)</td>\n",
       "      <td>Clean Alternative Fuel Vehicle Eligible</td>\n",
       "      <td>35</td>\n",
       "      <td>0</td>\n",
       "      <td>35.0</td>\n",
       "      <td>158415498</td>\n",
       "      <td>POINT (-122.89166 47.03956)</td>\n",
       "      <td>PUGET SOUND ENERGY INC</td>\n",
       "      <td>5.306701e+10</td>\n",
       "    </tr>\n",
       "  </tbody>\n",
       "</table>\n",
       "</div>"
      ],
      "text/plain": [
       "   VIN (1-10)    County      City State  Postal Code  Model Year       Make  \\\n",
       "0  5YJ3E1EA5L      King   Seattle    WA      98133.0        2020      TESLA   \n",
       "1  5UX43EU08R      King   Seattle    WA      98125.0        2024        BMW   \n",
       "2  5UX43EU06R      King   Seattle    WA      98102.0        2024        BMW   \n",
       "3  5YJ3E1EA1J      King  Kirkland    WA      98034.0        2018      TESLA   \n",
       "4  1G1RA6E43C  Thurston   Olympia    WA      98501.0        2012  CHEVROLET   \n",
       "\n",
       "     Model                   Electric Vehicle Type  \\\n",
       "0  MODEL 3          Battery Electric Vehicle (BEV)   \n",
       "1       X5  Plug-in Hybrid Electric Vehicle (PHEV)   \n",
       "2       X5  Plug-in Hybrid Electric Vehicle (PHEV)   \n",
       "3  MODEL 3          Battery Electric Vehicle (BEV)   \n",
       "4     VOLT  Plug-in Hybrid Electric Vehicle (PHEV)   \n",
       "\n",
       "  Clean Alternative Fuel Vehicle (CAFV) Eligibility  Electric Range  \\\n",
       "0           Clean Alternative Fuel Vehicle Eligible             266   \n",
       "1           Clean Alternative Fuel Vehicle Eligible              39   \n",
       "2           Clean Alternative Fuel Vehicle Eligible              39   \n",
       "3           Clean Alternative Fuel Vehicle Eligible             215   \n",
       "4           Clean Alternative Fuel Vehicle Eligible              35   \n",
       "\n",
       "   Base MSRP  Legislative District  DOL Vehicle ID  \\\n",
       "0          0                  46.0       249903111   \n",
       "1          0                  46.0       264762606   \n",
       "2          0                  43.0       275506031   \n",
       "3          0                   1.0       117023581   \n",
       "4          0                  35.0       158415498   \n",
       "\n",
       "              Vehicle Location                               Electric Utility  \\\n",
       "0  POINT (-122.35029 47.71871)   CITY OF SEATTLE - (WA)|CITY OF TACOMA - (WA)   \n",
       "1  POINT (-122.30253 47.72656)   CITY OF SEATTLE - (WA)|CITY OF TACOMA - (WA)   \n",
       "2  POINT (-122.32427 47.63433)   CITY OF SEATTLE - (WA)|CITY OF TACOMA - (WA)   \n",
       "3  POINT (-122.22901 47.72201)  PUGET SOUND ENERGY INC||CITY OF TACOMA - (WA)   \n",
       "4  POINT (-122.89166 47.03956)                         PUGET SOUND ENERGY INC   \n",
       "\n",
       "   2020 Census Tract  \n",
       "0       5.303300e+10  \n",
       "1       5.303300e+10  \n",
       "2       5.303301e+10  \n",
       "3       5.303302e+10  \n",
       "4       5.306701e+10  "
      ]
     },
     "execution_count": 2,
     "metadata": {},
     "output_type": "execute_result"
    }
   ],
   "source": [
    "df=pd.read_csv(\"Electric_Vehicle_Population_Data.csv\")\n",
    "df.head()"
   ]
  },
  {
   "cell_type": "code",
   "execution_count": 3,
   "id": "c4b60ec5-c2e4-429f-9c21-84cc24b61d5b",
   "metadata": {},
   "outputs": [
    {
     "data": {
      "text/plain": [
       "(220225, 17)"
      ]
     },
     "execution_count": 3,
     "metadata": {},
     "output_type": "execute_result"
    }
   ],
   "source": [
    "df.shape"
   ]
  },
  {
   "cell_type": "code",
   "execution_count": 4,
   "id": "f101057c-2ae1-404b-b81d-c8fd28faaa85",
   "metadata": {},
   "outputs": [
    {
     "data": {
      "text/plain": [
       "np.int64(0)"
      ]
     },
     "execution_count": 4,
     "metadata": {},
     "output_type": "execute_result"
    }
   ],
   "source": [
    "df.duplicated().sum()"
   ]
  },
  {
   "cell_type": "code",
   "execution_count": 5,
   "id": "842b6ba9-6aaf-475d-a688-84ba640c39d9",
   "metadata": {},
   "outputs": [
    {
     "name": "stdout",
     "output_type": "stream",
     "text": [
      "<class 'pandas.core.frame.DataFrame'>\n",
      "RangeIndex: 220225 entries, 0 to 220224\n",
      "Data columns (total 17 columns):\n",
      " #   Column                                             Non-Null Count   Dtype  \n",
      "---  ------                                             --------------   -----  \n",
      " 0   VIN (1-10)                                         220225 non-null  object \n",
      " 1   County                                             220222 non-null  object \n",
      " 2   City                                               220222 non-null  object \n",
      " 3   State                                              220225 non-null  object \n",
      " 4   Postal Code                                        220222 non-null  float64\n",
      " 5   Model Year                                         220225 non-null  int64  \n",
      " 6   Make                                               220225 non-null  object \n",
      " 7   Model                                              220225 non-null  object \n",
      " 8   Electric Vehicle Type                              220225 non-null  object \n",
      " 9   Clean Alternative Fuel Vehicle (CAFV) Eligibility  220225 non-null  object \n",
      " 10  Electric Range                                     220225 non-null  int64  \n",
      " 11  Base MSRP                                          220225 non-null  int64  \n",
      " 12  Legislative District                               219762 non-null  float64\n",
      " 13  DOL Vehicle ID                                     220225 non-null  int64  \n",
      " 14  Vehicle Location                                   220216 non-null  object \n",
      " 15  Electric Utility                                   220222 non-null  object \n",
      " 16  2020 Census Tract                                  220222 non-null  float64\n",
      "dtypes: float64(3), int64(4), object(10)\n",
      "memory usage: 28.6+ MB\n"
     ]
    }
   ],
   "source": [
    "df.info()"
   ]
  },
  {
   "cell_type": "code",
   "execution_count": 6,
   "id": "308d87b7-6c45-4795-a269-e59a66cb44fe",
   "metadata": {},
   "outputs": [
    {
     "data": {
      "text/plain": [
       "VIN (1-10)                                             0\n",
       "County                                                 3\n",
       "City                                                   3\n",
       "State                                                  0\n",
       "Postal Code                                            3\n",
       "Model Year                                             0\n",
       "Make                                                   0\n",
       "Model                                                  0\n",
       "Electric Vehicle Type                                  0\n",
       "Clean Alternative Fuel Vehicle (CAFV) Eligibility      0\n",
       "Electric Range                                         0\n",
       "Base MSRP                                              0\n",
       "Legislative District                                 463\n",
       "DOL Vehicle ID                                         0\n",
       "Vehicle Location                                       9\n",
       "Electric Utility                                       3\n",
       "2020 Census Tract                                      3\n",
       "dtype: int64"
      ]
     },
     "execution_count": 6,
     "metadata": {},
     "output_type": "execute_result"
    }
   ],
   "source": [
    "df.isnull().sum()"
   ]
  },
  {
   "cell_type": "code",
   "execution_count": 7,
   "id": "99883694-25a5-476a-975f-94877ce17456",
   "metadata": {},
   "outputs": [
    {
     "name": "stdout",
     "output_type": "stream",
     "text": [
      "VIN (1-10)\n",
      "12879\n",
      "County\n",
      "208\n",
      "City\n",
      "783\n",
      "State\n",
      "48\n",
      "Postal Code\n",
      "947\n",
      "Model Year\n",
      "21\n",
      "Make\n",
      "46\n",
      "Model\n",
      "159\n",
      "Electric Vehicle Type\n",
      "2\n",
      "Clean Alternative Fuel Vehicle (CAFV) Eligibility\n",
      "3\n",
      "Electric Range\n",
      "109\n",
      "Base MSRP\n",
      "31\n",
      "Legislative District\n",
      "49\n",
      "DOL Vehicle ID\n",
      "220225\n",
      "Vehicle Location\n",
      "945\n",
      "Electric Utility\n",
      "75\n",
      "2020 Census Tract\n",
      "2184\n"
     ]
    }
   ],
   "source": [
    "for col in df.columns:\n",
    "    print(col)\n",
    "    print(df[col].nunique())"
   ]
  },
  {
   "cell_type": "markdown",
   "id": "e9a187b6-a34a-443e-9a01-56fe826f01df",
   "metadata": {},
   "source": [
    "#### Drop rows with null values. Losing 469 rows. Too small to be significant."
   ]
  },
  {
   "cell_type": "code",
   "execution_count": 8,
   "id": "e63c666f-6db5-47b3-b7f3-a827f95d8bd6",
   "metadata": {},
   "outputs": [
    {
     "data": {
      "text/plain": [
       "(219756, 17)"
      ]
     },
     "execution_count": 8,
     "metadata": {},
     "output_type": "execute_result"
    }
   ],
   "source": [
    "df1=df.dropna()\n",
    "df1.shape"
   ]
  },
  {
   "cell_type": "code",
   "execution_count": 9,
   "id": "2ba13384-2091-4765-9f70-23cb08df9669",
   "metadata": {},
   "outputs": [
    {
     "data": {
      "text/plain": [
       "469"
      ]
     },
     "execution_count": 9,
     "metadata": {},
     "output_type": "execute_result"
    }
   ],
   "source": [
    "df.shape[0]-df1.shape[0]"
   ]
  },
  {
   "cell_type": "markdown",
   "id": "81478577-d89b-4d0c-9b80-3cf651cffad1",
   "metadata": {},
   "source": [
    "#### Create latitude and longitude columns out of Location column and turn them into numeric values."
   ]
  },
  {
   "cell_type": "code",
   "execution_count": 10,
   "id": "d8848bff-5d3f-4f4d-859b-5625097a3338",
   "metadata": {},
   "outputs": [
    {
     "data": {
      "text/plain": [
       "Index(['VIN (1-10)', 'County', 'City', 'State', 'Postal Code', 'Model Year',\n",
       "       'Make', 'Model', 'Electric Vehicle Type',\n",
       "       'Clean Alternative Fuel Vehicle (CAFV) Eligibility', 'Electric Range',\n",
       "       'Base MSRP', 'Legislative District', 'DOL Vehicle ID',\n",
       "       'Vehicle Location', 'Electric Utility', '2020 Census Tract'],\n",
       "      dtype='object')"
      ]
     },
     "execution_count": 10,
     "metadata": {},
     "output_type": "execute_result"
    }
   ],
   "source": [
    "df1.columns"
   ]
  },
  {
   "cell_type": "code",
   "execution_count": 11,
   "id": "198b595d-720f-48e8-a925-0133c07cd105",
   "metadata": {},
   "outputs": [
    {
     "data": {
      "text/plain": [
       "0    POINT (-122.35029 47.71871)\n",
       "1    POINT (-122.30253 47.72656)\n",
       "2    POINT (-122.32427 47.63433)\n",
       "3    POINT (-122.22901 47.72201)\n",
       "4    POINT (-122.89166 47.03956)\n",
       "Name: Vehicle Location, dtype: object"
      ]
     },
     "execution_count": 11,
     "metadata": {},
     "output_type": "execute_result"
    }
   ],
   "source": [
    "df1[\"Vehicle Location\"].head()"
   ]
  },
  {
   "cell_type": "code",
   "execution_count": 12,
   "id": "dbdcbd1a-23a3-4c28-b54a-b46c9328a054",
   "metadata": {},
   "outputs": [
    {
     "name": "stderr",
     "output_type": "stream",
     "text": [
      "<>:2: SyntaxWarning: invalid escape sequence '\\d'\n",
      "<>:2: SyntaxWarning: invalid escape sequence '\\d'\n",
      "C:\\Users\\Kun Bi\\AppData\\Local\\Temp\\ipykernel_14252\\427272738.py:2: SyntaxWarning: invalid escape sequence '\\d'\n",
      "  df1[\"Latitude\"]=df1.loc[:,\"Vehicle Location\"].str.extract(\"(-\\d+\\.\\d+)\")\n",
      "C:\\Users\\Kun Bi\\AppData\\Local\\Temp\\ipykernel_14252\\427272738.py:2: SettingWithCopyWarning: \n",
      "A value is trying to be set on a copy of a slice from a DataFrame.\n",
      "Try using .loc[row_indexer,col_indexer] = value instead\n",
      "\n",
      "See the caveats in the documentation: https://pandas.pydata.org/pandas-docs/stable/user_guide/indexing.html#returning-a-view-versus-a-copy\n",
      "  df1[\"Latitude\"]=df1.loc[:,\"Vehicle Location\"].str.extract(\"(-\\d+\\.\\d+)\")\n"
     ]
    },
    {
     "data": {
      "text/plain": [
       "0         -122.35029\n",
       "1         -122.30253\n",
       "2         -122.32427\n",
       "3         -122.22901\n",
       "4         -122.89166\n",
       "             ...    \n",
       "220220    -122.89166\n",
       "220221    -122.21061\n",
       "220222    -122.21061\n",
       "220223    -122.03287\n",
       "220224    -122.12053\n",
       "Name: Latitude, Length: 219756, dtype: object"
      ]
     },
     "execution_count": 12,
     "metadata": {},
     "output_type": "execute_result"
    }
   ],
   "source": [
    "#df1[\"Latitude\"]=df1[\"Vehicle Location\"].str.extract(\"(\\-\\d+\\.\\d+)\")\n",
    "df1[\"Latitude\"]=df1.loc[:,\"Vehicle Location\"].str.extract(\"(-\\d+\\.\\d+)\")\n",
    "df1[\"Latitude\"]"
   ]
  },
  {
   "cell_type": "code",
   "execution_count": 13,
   "id": "e490440d-8fd2-45fe-a43a-a6f2254bbab2",
   "metadata": {},
   "outputs": [
    {
     "name": "stderr",
     "output_type": "stream",
     "text": [
      "<>:1: SyntaxWarning: invalid escape sequence '\\s'\n",
      "<>:1: SyntaxWarning: invalid escape sequence '\\s'\n",
      "C:\\Users\\Kun Bi\\AppData\\Local\\Temp\\ipykernel_14252\\3398377892.py:1: SyntaxWarning: invalid escape sequence '\\s'\n",
      "  df1[\"Longitude\"]=df1[\"Vehicle Location\"].str.extract(\"(\\s\\d+\\.\\d+)\")\n",
      "C:\\Users\\Kun Bi\\AppData\\Local\\Temp\\ipykernel_14252\\3398377892.py:1: SettingWithCopyWarning: \n",
      "A value is trying to be set on a copy of a slice from a DataFrame.\n",
      "Try using .loc[row_indexer,col_indexer] = value instead\n",
      "\n",
      "See the caveats in the documentation: https://pandas.pydata.org/pandas-docs/stable/user_guide/indexing.html#returning-a-view-versus-a-copy\n",
      "  df1[\"Longitude\"]=df1[\"Vehicle Location\"].str.extract(\"(\\s\\d+\\.\\d+)\")\n"
     ]
    },
    {
     "data": {
      "text/plain": [
       "0          47.71871\n",
       "1          47.72656\n",
       "2          47.63433\n",
       "3          47.72201\n",
       "4          47.03956\n",
       "            ...    \n",
       "220220     47.03956\n",
       "220221     47.83448\n",
       "220222     47.83448\n",
       "220223     47.68555\n",
       "220224     47.61334\n",
       "Name: Longitude, Length: 219756, dtype: object"
      ]
     },
     "execution_count": 13,
     "metadata": {},
     "output_type": "execute_result"
    }
   ],
   "source": [
    "df1[\"Longitude\"]=df1[\"Vehicle Location\"].str.extract(\"(\\s\\d+\\.\\d+)\")\n",
    "df1[\"Longitude\"]"
   ]
  },
  {
   "cell_type": "code",
   "execution_count": 14,
   "id": "5aea2e90-1e01-43b5-9cc3-9b9b03476375",
   "metadata": {},
   "outputs": [
    {
     "name": "stderr",
     "output_type": "stream",
     "text": [
      "C:\\Users\\Kun Bi\\AppData\\Local\\Temp\\ipykernel_14252\\3580585742.py:1: SettingWithCopyWarning: \n",
      "A value is trying to be set on a copy of a slice from a DataFrame.\n",
      "Try using .loc[row_indexer,col_indexer] = value instead\n",
      "\n",
      "See the caveats in the documentation: https://pandas.pydata.org/pandas-docs/stable/user_guide/indexing.html#returning-a-view-versus-a-copy\n",
      "  df1[\"Latitude\"]=pd.to_numeric(df1.Latitude)\n",
      "C:\\Users\\Kun Bi\\AppData\\Local\\Temp\\ipykernel_14252\\3580585742.py:2: SettingWithCopyWarning: \n",
      "A value is trying to be set on a copy of a slice from a DataFrame.\n",
      "Try using .loc[row_indexer,col_indexer] = value instead\n",
      "\n",
      "See the caveats in the documentation: https://pandas.pydata.org/pandas-docs/stable/user_guide/indexing.html#returning-a-view-versus-a-copy\n",
      "  df1[\"Longitude\"]=pd.to_numeric(df1.Longitude)\n"
     ]
    }
   ],
   "source": [
    "df1[\"Latitude\"]=pd.to_numeric(df1.Latitude)\n",
    "df1[\"Longitude\"]=pd.to_numeric(df1.Longitude)\n"
   ]
  },
  {
   "cell_type": "code",
   "execution_count": 15,
   "id": "bd1d167d-01c9-46f6-a63f-add7d942e3d5",
   "metadata": {},
   "outputs": [
    {
     "name": "stdout",
     "output_type": "stream",
     "text": [
      "<class 'pandas.core.frame.DataFrame'>\n",
      "Index: 219756 entries, 0 to 220224\n",
      "Data columns (total 19 columns):\n",
      " #   Column                                             Non-Null Count   Dtype  \n",
      "---  ------                                             --------------   -----  \n",
      " 0   VIN (1-10)                                         219756 non-null  object \n",
      " 1   County                                             219756 non-null  object \n",
      " 2   City                                               219756 non-null  object \n",
      " 3   State                                              219756 non-null  object \n",
      " 4   Postal Code                                        219756 non-null  float64\n",
      " 5   Model Year                                         219756 non-null  int64  \n",
      " 6   Make                                               219756 non-null  object \n",
      " 7   Model                                              219756 non-null  object \n",
      " 8   Electric Vehicle Type                              219756 non-null  object \n",
      " 9   Clean Alternative Fuel Vehicle (CAFV) Eligibility  219756 non-null  object \n",
      " 10  Electric Range                                     219756 non-null  int64  \n",
      " 11  Base MSRP                                          219756 non-null  int64  \n",
      " 12  Legislative District                               219756 non-null  float64\n",
      " 13  DOL Vehicle ID                                     219756 non-null  int64  \n",
      " 14  Vehicle Location                                   219756 non-null  object \n",
      " 15  Electric Utility                                   219756 non-null  object \n",
      " 16  2020 Census Tract                                  219756 non-null  float64\n",
      " 17  Latitude                                           219756 non-null  float64\n",
      " 18  Longitude                                          219756 non-null  float64\n",
      "dtypes: float64(5), int64(4), object(10)\n",
      "memory usage: 33.5+ MB\n"
     ]
    }
   ],
   "source": [
    "df1.info()"
   ]
  },
  {
   "cell_type": "code",
   "execution_count": 66,
   "id": "54efc4a3-fbf7-433b-aca3-7d72da81419c",
   "metadata": {},
   "outputs": [
    {
     "data": {
      "text/html": [
       "<div>\n",
       "<style scoped>\n",
       "    .dataframe tbody tr th:only-of-type {\n",
       "        vertical-align: middle;\n",
       "    }\n",
       "\n",
       "    .dataframe tbody tr th {\n",
       "        vertical-align: top;\n",
       "    }\n",
       "\n",
       "    .dataframe thead th {\n",
       "        text-align: right;\n",
       "    }\n",
       "</style>\n",
       "<table border=\"1\" class=\"dataframe\">\n",
       "  <thead>\n",
       "    <tr style=\"text-align: right;\">\n",
       "      <th></th>\n",
       "      <th>vin</th>\n",
       "      <th>county</th>\n",
       "      <th>city</th>\n",
       "      <th>state</th>\n",
       "      <th>postal_code</th>\n",
       "      <th>model_year</th>\n",
       "      <th>manufacture</th>\n",
       "      <th>model</th>\n",
       "      <th>type</th>\n",
       "      <th>cafv</th>\n",
       "      <th>e_range</th>\n",
       "      <th>base_msrp</th>\n",
       "      <th>legi_district</th>\n",
       "      <th>id</th>\n",
       "      <th>location</th>\n",
       "      <th>e_utility</th>\n",
       "      <th>2020_census_tract</th>\n",
       "      <th>lat</th>\n",
       "      <th>lon</th>\n",
       "    </tr>\n",
       "  </thead>\n",
       "  <tbody>\n",
       "    <tr>\n",
       "      <th>0</th>\n",
       "      <td>5YJ3E1EA5L</td>\n",
       "      <td>King</td>\n",
       "      <td>Seattle</td>\n",
       "      <td>WA</td>\n",
       "      <td>98133.0</td>\n",
       "      <td>2020</td>\n",
       "      <td>TESLA</td>\n",
       "      <td>MODEL 3</td>\n",
       "      <td>Battery Electric Vehicle (BEV)</td>\n",
       "      <td>Clean Alternative Fuel Vehicle Eligible</td>\n",
       "      <td>266</td>\n",
       "      <td>0</td>\n",
       "      <td>46.0</td>\n",
       "      <td>249903111</td>\n",
       "      <td>POINT (-122.35029 47.71871)</td>\n",
       "      <td>CITY OF SEATTLE - (WA)|CITY OF TACOMA - (WA)</td>\n",
       "      <td>5.303300e+10</td>\n",
       "      <td>-122.35029</td>\n",
       "      <td>47.71871</td>\n",
       "    </tr>\n",
       "    <tr>\n",
       "      <th>1</th>\n",
       "      <td>5UX43EU08R</td>\n",
       "      <td>King</td>\n",
       "      <td>Seattle</td>\n",
       "      <td>WA</td>\n",
       "      <td>98125.0</td>\n",
       "      <td>2024</td>\n",
       "      <td>BMW</td>\n",
       "      <td>X5</td>\n",
       "      <td>Plug-in Hybrid Electric Vehicle (PHEV)</td>\n",
       "      <td>Clean Alternative Fuel Vehicle Eligible</td>\n",
       "      <td>39</td>\n",
       "      <td>0</td>\n",
       "      <td>46.0</td>\n",
       "      <td>264762606</td>\n",
       "      <td>POINT (-122.30253 47.72656)</td>\n",
       "      <td>CITY OF SEATTLE - (WA)|CITY OF TACOMA - (WA)</td>\n",
       "      <td>5.303300e+10</td>\n",
       "      <td>-122.30253</td>\n",
       "      <td>47.72656</td>\n",
       "    </tr>\n",
       "    <tr>\n",
       "      <th>2</th>\n",
       "      <td>5UX43EU06R</td>\n",
       "      <td>King</td>\n",
       "      <td>Seattle</td>\n",
       "      <td>WA</td>\n",
       "      <td>98102.0</td>\n",
       "      <td>2024</td>\n",
       "      <td>BMW</td>\n",
       "      <td>X5</td>\n",
       "      <td>Plug-in Hybrid Electric Vehicle (PHEV)</td>\n",
       "      <td>Clean Alternative Fuel Vehicle Eligible</td>\n",
       "      <td>39</td>\n",
       "      <td>0</td>\n",
       "      <td>43.0</td>\n",
       "      <td>275506031</td>\n",
       "      <td>POINT (-122.32427 47.63433)</td>\n",
       "      <td>CITY OF SEATTLE - (WA)|CITY OF TACOMA - (WA)</td>\n",
       "      <td>5.303301e+10</td>\n",
       "      <td>-122.32427</td>\n",
       "      <td>47.63433</td>\n",
       "    </tr>\n",
       "    <tr>\n",
       "      <th>3</th>\n",
       "      <td>5YJ3E1EA1J</td>\n",
       "      <td>King</td>\n",
       "      <td>Kirkland</td>\n",
       "      <td>WA</td>\n",
       "      <td>98034.0</td>\n",
       "      <td>2018</td>\n",
       "      <td>TESLA</td>\n",
       "      <td>MODEL 3</td>\n",
       "      <td>Battery Electric Vehicle (BEV)</td>\n",
       "      <td>Clean Alternative Fuel Vehicle Eligible</td>\n",
       "      <td>215</td>\n",
       "      <td>0</td>\n",
       "      <td>1.0</td>\n",
       "      <td>117023581</td>\n",
       "      <td>POINT (-122.22901 47.72201)</td>\n",
       "      <td>PUGET SOUND ENERGY INC||CITY OF TACOMA - (WA)</td>\n",
       "      <td>5.303302e+10</td>\n",
       "      <td>-122.22901</td>\n",
       "      <td>47.72201</td>\n",
       "    </tr>\n",
       "    <tr>\n",
       "      <th>4</th>\n",
       "      <td>1G1RA6E43C</td>\n",
       "      <td>Thurston</td>\n",
       "      <td>Olympia</td>\n",
       "      <td>WA</td>\n",
       "      <td>98501.0</td>\n",
       "      <td>2012</td>\n",
       "      <td>CHEVROLET</td>\n",
       "      <td>VOLT</td>\n",
       "      <td>Plug-in Hybrid Electric Vehicle (PHEV)</td>\n",
       "      <td>Clean Alternative Fuel Vehicle Eligible</td>\n",
       "      <td>35</td>\n",
       "      <td>0</td>\n",
       "      <td>35.0</td>\n",
       "      <td>158415498</td>\n",
       "      <td>POINT (-122.89166 47.03956)</td>\n",
       "      <td>PUGET SOUND ENERGY INC</td>\n",
       "      <td>5.306701e+10</td>\n",
       "      <td>-122.89166</td>\n",
       "      <td>47.03956</td>\n",
       "    </tr>\n",
       "  </tbody>\n",
       "</table>\n",
       "</div>"
      ],
      "text/plain": [
       "          vin    county      city state  postal_code  model_year manufacture  \\\n",
       "0  5YJ3E1EA5L      King   Seattle    WA      98133.0        2020       TESLA   \n",
       "1  5UX43EU08R      King   Seattle    WA      98125.0        2024         BMW   \n",
       "2  5UX43EU06R      King   Seattle    WA      98102.0        2024         BMW   \n",
       "3  5YJ3E1EA1J      King  Kirkland    WA      98034.0        2018       TESLA   \n",
       "4  1G1RA6E43C  Thurston   Olympia    WA      98501.0        2012   CHEVROLET   \n",
       "\n",
       "     model                                    type  \\\n",
       "0  MODEL 3          Battery Electric Vehicle (BEV)   \n",
       "1       X5  Plug-in Hybrid Electric Vehicle (PHEV)   \n",
       "2       X5  Plug-in Hybrid Electric Vehicle (PHEV)   \n",
       "3  MODEL 3          Battery Electric Vehicle (BEV)   \n",
       "4     VOLT  Plug-in Hybrid Electric Vehicle (PHEV)   \n",
       "\n",
       "                                      cafv  e_range  base_msrp  legi_district  \\\n",
       "0  Clean Alternative Fuel Vehicle Eligible      266          0           46.0   \n",
       "1  Clean Alternative Fuel Vehicle Eligible       39          0           46.0   \n",
       "2  Clean Alternative Fuel Vehicle Eligible       39          0           43.0   \n",
       "3  Clean Alternative Fuel Vehicle Eligible      215          0            1.0   \n",
       "4  Clean Alternative Fuel Vehicle Eligible       35          0           35.0   \n",
       "\n",
       "          id                     location  \\\n",
       "0  249903111  POINT (-122.35029 47.71871)   \n",
       "1  264762606  POINT (-122.30253 47.72656)   \n",
       "2  275506031  POINT (-122.32427 47.63433)   \n",
       "3  117023581  POINT (-122.22901 47.72201)   \n",
       "4  158415498  POINT (-122.89166 47.03956)   \n",
       "\n",
       "                                       e_utility  2020_census_tract  \\\n",
       "0   CITY OF SEATTLE - (WA)|CITY OF TACOMA - (WA)       5.303300e+10   \n",
       "1   CITY OF SEATTLE - (WA)|CITY OF TACOMA - (WA)       5.303300e+10   \n",
       "2   CITY OF SEATTLE - (WA)|CITY OF TACOMA - (WA)       5.303301e+10   \n",
       "3  PUGET SOUND ENERGY INC||CITY OF TACOMA - (WA)       5.303302e+10   \n",
       "4                         PUGET SOUND ENERGY INC       5.306701e+10   \n",
       "\n",
       "         lat       lon  \n",
       "0 -122.35029  47.71871  \n",
       "1 -122.30253  47.72656  \n",
       "2 -122.32427  47.63433  \n",
       "3 -122.22901  47.72201  \n",
       "4 -122.89166  47.03956  "
      ]
     },
     "execution_count": 66,
     "metadata": {},
     "output_type": "execute_result"
    }
   ],
   "source": [
    "df1.columns=[\"vin\",\"county\",\"city\",\"state\",\"postal_code\",\"model_year\",\"manufacture\",\"model\",\"type\",\"cafv\",\"e_range\",\"base_msrp\",\"legi_district\",\"id\",\"location\",\"e_utility\",\"2020_census_tract\",\"lat\",\"lon\"]\n",
    "df1.head()"
   ]
  },
  {
   "cell_type": "code",
   "execution_count": 67,
   "id": "416a5817-0e7a-4c1b-8830-025cb9b53f09",
   "metadata": {},
   "outputs": [],
   "source": [
    "df1.to_csv(\"cleaned_electric_data.csv\")"
   ]
  },
  {
   "cell_type": "code",
   "execution_count": null,
   "id": "e3964f6f-f821-4d27-b91e-b28d6c94ec15",
   "metadata": {},
   "outputs": [],
   "source": []
  },
  {
   "cell_type": "code",
   "execution_count": null,
   "id": "9a4c3199-a505-4d3a-b57d-a55cf1929960",
   "metadata": {},
   "outputs": [],
   "source": []
  }
 ],
 "metadata": {
  "kernelspec": {
   "display_name": "Python 3 (ipykernel)",
   "language": "python",
   "name": "python3"
  },
  "language_info": {
   "codemirror_mode": {
    "name": "ipython",
    "version": 3
   },
   "file_extension": ".py",
   "mimetype": "text/x-python",
   "name": "python",
   "nbconvert_exporter": "python",
   "pygments_lexer": "ipython3",
   "version": "3.12.7"
  }
 },
 "nbformat": 4,
 "nbformat_minor": 5
}
